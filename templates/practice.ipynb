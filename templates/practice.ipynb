{
 "cells": [
  {
   "cell_type": "code",
   "execution_count": 11,
   "metadata": {},
   "outputs": [
    {
     "name": "stdout",
     "output_type": "stream",
     "text": [
      "      name  Age  Money Earned\n",
      "0   shivam   23         10000\n",
      "1   ashish   25         30000\n",
      "2  anushka   28          8000\n",
      "3    ankit   17           100\n",
      "4    ayush   12            10\n",
      "48110\n",
      "105\n"
     ]
    }
   ],
   "source": [
    "import pandas as pd\n",
    "df = pd.DataFrame({'name':['shivam', 'ashish', 'anushka', 'ankit', 'ayush'],'Age': [23, 25, 28, 17, 12],'Money Earned': [10000, 30000, 8000, 100, 10]})\n",
    "print(df.head())\n",
    "Total_earnings = df['Money Earned'].sum()\n",
    "Total_Age = df['Age'].sum()\n",
    "print(Total_earnings)\n",
    "print(Total_Age)"
   ]
  }
 ],
 "metadata": {
  "kernelspec": {
   "display_name": "Python 3",
   "language": "python",
   "name": "python3"
  },
  "language_info": {
   "codemirror_mode": {
    "name": "ipython",
    "version": 3
   },
   "file_extension": ".py",
   "mimetype": "text/x-python",
   "name": "python",
   "nbconvert_exporter": "python",
   "pygments_lexer": "ipython3",
   "version": "3.6.5"
  },
  "orig_nbformat": 4
 },
 "nbformat": 4,
 "nbformat_minor": 2
}
